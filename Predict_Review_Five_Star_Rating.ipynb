{
 "cells": [
  {
   "cell_type": "markdown",
   "metadata": {},
   "source": [
    "# Use Case Study\n",
    "From users’ past reviews on businesses on Yelp, figure out how likely her review for another business has five-star.\n"
   ]
  },
  {
   "cell_type": "markdown",
   "metadata": {},
   "source": [
    "## Load data"
   ]
  },
  {
   "cell_type": "code",
   "execution_count": null,
   "metadata": {
    "collapsed": false
   },
   "outputs": [],
   "source": [
    "import pandas as pd\n",
    "\n",
    "PATH = '/scratch/xun/docs/yelp_dataset_challenge_academic_dataset/'\n",
    "biz_df = pd.read_csv(PATH + 'yelp_academic_dataset_business.csv')\n",
    "user_df = pd.read_csv(PATH + 'yelp_academic_dataset_user.csv')\n",
    "review_df = pd.read_csv(PATH + 'yelp_academic_dataset_review.csv')"
   ]
  },
  {
   "cell_type": "code",
   "execution_count": null,
   "metadata": {
    "collapsed": false,
    "scrolled": true
   },
   "outputs": [],
   "source": [
    "review_df = review_df.set_index('review_id')\n",
    "user_df = user_df.set_index('user_id')\n",
    "biz_df = biz_df.set_index('business_id')"
   ]
  },
  {
   "cell_type": "markdown",
   "metadata": {},
   "source": [
    "## Visulize the data"
   ]
  },
  {
   "cell_type": "markdown",
   "metadata": {},
   "source": [
    "### Example: Plot distribution of review star ratings"
   ]
  },
  {
   "cell_type": "code",
   "execution_count": null,
   "metadata": {
    "collapsed": false
   },
   "outputs": [],
   "source": [
    "import seaborn as sns\n",
    "%matplotlib inline\n",
    "\n",
    "# Set context to \"talk\" for figure aesthetics \n",
    "sns.set_context(context=\"talk\")\n",
    "# set plot figure size to larger\n",
    "sns.set(palette='Set2', rc={\"figure.figsize\": (15, 8)}, style=\"ticks\")"
   ]
  },
  {
   "cell_type": "code",
   "execution_count": null,
   "metadata": {
    "collapsed": false
   },
   "outputs": [],
   "source": [
    "ax = sns.countplot(x='stars', data=review_df, hue='type')\n",
    "# Rmoving spines\n",
    "sns.despine()"
   ]
  },
  {
   "cell_type": "code",
   "execution_count": null,
   "metadata": {
    "collapsed": false
   },
   "outputs": [],
   "source": [
    "review_df['datetime'] = pd.to_datetime(review_df['date'])\n",
    "review_df['year'] = review_df['datetime'].dt.year\n",
    "ax = sns.countplot(x='year', data=review_df, hue='stars')\n",
    "sns.despine()"
   ]
  },
  {
   "cell_type": "markdown",
   "metadata": {},
   "source": [
    "## Featurize the data"
   ]
  },
  {
   "cell_type": "code",
   "execution_count": null,
   "metadata": {
    "collapsed": true
   },
   "outputs": [],
   "source": [
    "### Example: Convert categorial features to binary features "
   ]
  },
  {
   "cell_type": "code",
   "execution_count": null,
   "metadata": {
    "collapsed": false
   },
   "outputs": [],
   "source": [
    "def calculate_date_delta(df, from_column, to_column):\n",
    "    datetime = pd.to_datetime(df[from_column])\n",
    "    time_delta = datetime.max() - datetime\n",
    "    df[to_column] = time_delta.apply(lambda x: x.days)\n",
    "    df.drop(from_column, axis=1, inplace=True)"
   ]
  },
  {
   "cell_type": "code",
   "execution_count": null,
   "metadata": {
    "collapsed": true
   },
   "outputs": [],
   "source": [
    "def to_length(df, from_column, to_column):\n",
    "    df[to_column] = df[from_column].apply(lambda x: len(x))\n",
    "    df.drop(from_column, axis=1, inplace=True)"
   ]
  },
  {
   "cell_type": "code",
   "execution_count": null,
   "metadata": {
    "collapsed": true
   },
   "outputs": [],
   "source": [
    "def drop_columns(df, columns):\n",
    "    for column in columns:\n",
    "        df.drop(column, axis=1, inplace=True)"
   ]
  },
  {
   "cell_type": "code",
   "execution_count": null,
   "metadata": {
    "collapsed": true
   },
   "outputs": [],
   "source": [
    "def to_boolean(df, columns):\n",
    "    for column in columns:\n",
    "        to_column = column+'_bool'\n",
    "        df[to_column] = df[column].apply(lambda x: bool(x))\n",
    "        df.drop(column, axis=1, inplace=True)"
   ]
  },
  {
   "cell_type": "code",
   "execution_count": null,
   "metadata": {
    "collapsed": true
   },
   "outputs": [],
   "source": [
    "FILL_WITH = 0.0"
   ]
  },
  {
   "cell_type": "code",
   "execution_count": null,
   "metadata": {
    "collapsed": true
   },
   "outputs": [],
   "source": [
    "def to_category(df, columns):\n",
    "    for column in columns:\n",
    "        df[column] = df[column].astype('category')\n",
    "        # add FILL_WITH category for fillna() to work w/o error\n",
    "        if (FILL_WITH not in df[column].cat.categories):\n",
    "            df[column] = df[column].cat.add_categories([FILL_WITH])\n",
    "        print 'categories for ', column, ' include ', df[column].cat.categories"
   ]
  },
  {
   "cell_type": "code",
   "execution_count": null,
   "metadata": {
    "collapsed": true
   },
   "outputs": [],
   "source": [
    "def category_rename_to_int(df, columns):\n",
    "    for column in columns:\n",
    "        df[column].cat.remove_unused_categories()\n",
    "        size = len(df[column].cat.categories)\n",
    "        print 'column ', column, ' has ', size, ' columns, include ', df[column].cat.categories\n",
    "        df[column] = df[column].cat.rename_categories(range(size))\n",
    "        print 'becomes ', df[column].cat.categories"
   ]
  },
  {
   "cell_type": "code",
   "execution_count": null,
   "metadata": {
    "collapsed": false
   },
   "outputs": [],
   "source": [
    "review_df.columns.values"
   ]
  },
  {
   "cell_type": "code",
   "execution_count": null,
   "metadata": {
    "collapsed": true
   },
   "outputs": [],
   "source": [
    "calculate_date_delta(df=review_df, from_column='date', to_column='date_delta')"
   ]
  },
  {
   "cell_type": "code",
   "execution_count": null,
   "metadata": {
    "collapsed": false
   },
   "outputs": [],
   "source": [
    "to_length(df=review_df, from_column='text', to_column='text_len')"
   ]
  },
  {
   "cell_type": "code",
   "execution_count": null,
   "metadata": {
    "collapsed": true
   },
   "outputs": [],
   "source": [
    "drop_columns(df=review_df, columns=['type', 'year', 'datetime'])"
   ]
  },
  {
   "cell_type": "code",
   "execution_count": null,
   "metadata": {
    "collapsed": true
   },
   "outputs": [],
   "source": [
    "review_df.fillna(value=0.0, inplace=True)"
   ]
  },
  {
   "cell_type": "code",
   "execution_count": null,
   "metadata": {
    "collapsed": false
   },
   "outputs": [],
   "source": [
    "calculate_date_delta(df=user_df, from_column='yelping_since', to_column='date_delta')"
   ]
  },
  {
   "cell_type": "code",
   "execution_count": null,
   "metadata": {
    "collapsed": true
   },
   "outputs": [],
   "source": [
    "to_length(df=user_df, from_column='friends', to_column='friends_count')"
   ]
  },
  {
   "cell_type": "code",
   "execution_count": null,
   "metadata": {
    "collapsed": true
   },
   "outputs": [],
   "source": [
    "to_length(df=user_df, from_column='elite', to_column='elite_count')"
   ]
  },
  {
   "cell_type": "code",
   "execution_count": null,
   "metadata": {
    "collapsed": false
   },
   "outputs": [],
   "source": [
    "drop_columns(df=user_df, columns=['name', 'type'])"
   ]
  },
  {
   "cell_type": "code",
   "execution_count": null,
   "metadata": {
    "collapsed": false
   },
   "outputs": [],
   "source": [
    "user_df.fillna(value=0.0, inplace=True)"
   ]
  },
  {
   "cell_type": "code",
   "execution_count": null,
   "metadata": {
    "collapsed": false
   },
   "outputs": [],
   "source": [
    "drop_columns(\n",
    "    df=biz_df,\n",
    "    columns=[\n",
    "        'type',\n",
    "        'name',\n",
    "        'city',\n",
    "        'full_address',\n",
    "        'state',\n",
    "        'categories',\n",
    "        'longitude',\n",
    "        'latitude',\n",
    "        'neighborhoods',\n",
    "        'hours.Monday.open',\n",
    "        'hours.Monday.close',\n",
    "        'hours.Tuesday.open',\n",
    "        'hours.Tuesday.close',\n",
    "        'hours.Wednesday.open',\n",
    "        'hours.Wednesday.close',\n",
    "        'hours.Thursday.open',\n",
    "        'hours.Thursday.close',\n",
    "        'hours.Friday.open',\n",
    "        'hours.Friday.close',\n",
    "        'hours.Saturday.open',\n",
    "        'hours.Saturday.close',\n",
    "        'hours.Sunday.open',\n",
    "        'hours.Sunday.close',\n",
    "    ]\n",
    ")"
   ]
  },
  {
   "cell_type": "code",
   "execution_count": null,
   "metadata": {
    "collapsed": false
   },
   "outputs": [],
   "source": [
    "to_cat_columns = [\n",
    "    'attributes.Ambience.casual',\n",
    "    'attributes.Attire',\n",
    "    'attributes.Alcohol',\n",
    "    'attributes.Noise Level',\n",
    "    'attributes.Smoking',\n",
    "    'attributes.Wi-Fi',\n",
    "    'attributes.Ages Allowed',\n",
    "]\n",
    "to_category(\n",
    "    df=biz_df,\n",
    "    columns=to_cat_columns,\n",
    ")"
   ]
  },
  {
   "cell_type": "code",
   "execution_count": null,
   "metadata": {
    "collapsed": false
   },
   "outputs": [],
   "source": [
    "biz_df.fillna(value=FILL_WITH, inplace=True)"
   ]
  },
  {
   "cell_type": "code",
   "execution_count": null,
   "metadata": {
    "collapsed": false
   },
   "outputs": [],
   "source": [
    "category_rename_to_int(\n",
    "    df=biz_df,\n",
    "    columns=to_cat_columns,\n",
    ")"
   ]
  },
  {
   "cell_type": "markdown",
   "metadata": {},
   "source": [
    "#### Join three tables (review, biz, user) to one (review-with-all-info)\n",
    "\n",
    "Each join is a many-to-one join: \n",
    "The `user_df` DataFrame is already indexed by the join key (`user_id`). Make sure it's on the right side of join."
   ]
  },
  {
   "cell_type": "code",
   "execution_count": null,
   "metadata": {
    "collapsed": false
   },
   "outputs": [],
   "source": [
    "review_join_user = review_df.join(user_df, on='user_id', lsuffix='_review', rsuffix='_user')"
   ]
  },
  {
   "cell_type": "code",
   "execution_count": null,
   "metadata": {
    "collapsed": false
   },
   "outputs": [],
   "source": [
    "review_join_user_join_biz = review_join_user.join(biz_df, on='business_id', rsuffix='_biz')"
   ]
  },
  {
   "cell_type": "code",
   "execution_count": null,
   "metadata": {
    "collapsed": false,
    "scrolled": true
   },
   "outputs": [],
   "source": [
    "drop_columns(df=review_join_user_join_biz, columns=['user_id', 'business_id'])"
   ]
  },
  {
   "cell_type": "code",
   "execution_count": null,
   "metadata": {
    "collapsed": false
   },
   "outputs": [],
   "source": [
    "review_join_user_join_biz.columns.values"
   ]
  },
  {
   "cell_type": "code",
   "execution_count": null,
   "metadata": {
    "collapsed": false,
    "scrolled": true
   },
   "outputs": [],
   "source": [
    "review_join_user_join_biz.head(1)"
   ]
  },
  {
   "cell_type": "markdown",
   "metadata": {},
   "source": [
    "# Identify data X and target y"
   ]
  },
  {
   "cell_type": "code",
   "execution_count": null,
   "metadata": {
    "collapsed": false,
    "scrolled": false
   },
   "outputs": [],
   "source": [
    "# target y is whether a review is five-star\n",
    "y = review_join_user_join_biz.stars.apply(lambda x: x == 5)\n",
    "\n",
    "# We've already dropped not informative features data X\n",
    "X = review_join_user_join_biz\n",
    "review_join_user_join_biz.drop('stars', axis=1, inplace=True)\n",
    "\n",
    "# get the feature names - this will be useful for the model visualization and feature analysis\n",
    "features = X.columns.values"
   ]
  },
  {
   "cell_type": "code",
   "execution_count": null,
   "metadata": {
    "collapsed": true
   },
   "outputs": [],
   "source": [
    "from sklearn import preprocessing\n",
    "\n",
    "def label_encode(df, columns):\n",
    "    label_encoders = []\n",
    "    for column in columns:\n",
    "        le = preprocessing.LabelEncoder()\n",
    "        label_encoders.append(le)\n",
    "\n",
    "        #to convert into numbers\n",
    "        df[column] = le.fit_transform(df[column])\n",
    "        \n",
    "    return label_encoders\n",
    "\n",
    "def label_decode(df, columns, label_encoders):\n",
    "    # XXX(xun): columns have to be the same order as label_encode()\n",
    "    for column, le in zip(columns, label_encoders):\n",
    "        #to convert back\n",
    "        df[column] = le.inverse_transform(df[column])"
   ]
  },
  {
   "cell_type": "code",
   "execution_count": null,
   "metadata": {
    "collapsed": false
   },
   "outputs": [],
   "source": [
    "columns_need_encode = [\n",
    "    'attributes.BYOB/Corkage',\n",
    "]\n",
    "les = label_encode(\n",
    "    df=X,\n",
    "    columns=columns_need_encode,\n",
    ")\n",
    "#label_decode(df=df, columns=columns_need_encode, label_encoders=les)"
   ]
  },
  {
   "cell_type": "code",
   "execution_count": null,
   "metadata": {
    "collapsed": false
   },
   "outputs": [],
   "source": [
    "X.head(3).to_string()"
   ]
  },
  {
   "cell_type": "code",
   "execution_count": null,
   "metadata": {
    "collapsed": false
   },
   "outputs": [],
   "source": [
    "from sklearn.cross_validation import train_test_split\n",
    "\n",
    "# Split the data into a training set and a test set\n",
    "X_train, X_test, y_train, y_test = train_test_split(X, y)"
   ]
  },
  {
   "cell_type": "code",
   "execution_count": null,
   "metadata": {
    "collapsed": false
   },
   "outputs": [],
   "source": [
    "print 'training data shape', X_train.shape\n",
    "print 'test data shape', X_test.shape\n",
    "print 'converted label data shape', y_train.shape\n",
    "###print 'features', features"
   ]
  },
  {
   "cell_type": "markdown",
   "metadata": {},
   "source": [
    "## Model the data"
   ]
  },
  {
   "cell_type": "markdown",
   "metadata": {},
   "source": [
    "### Logistic regression\n",
    "\n",
    "Estimate the probability of a binary response based on one or more features. The probability of a review being five-star.\n",
    "\n",
    "Benefits:\n",
    "- Fast\n",
    "- Stable\n",
    "- Can handle sparse data\n",
    "\n",
    "Disadvantages:\n",
    "- Necessary to normalize data\n",
    "- Data must be numeric\n",
    "\n",
    "Parameters:\n",
    "- penalty: Used to specify the norm used in the penalization ('l1' or 'l2'). Default = 'l2'.\n",
    "- C: Inverse of regularization strength, smaller values specify stronger regularization. It must be a positive float. Default = 1.0.\n",
    "- tol: Tolerance for stopping criteria. Default = 0.0001."
   ]
  },
  {
   "cell_type": "markdown",
   "metadata": {},
   "source": [
    "#### Standardize features"
   ]
  },
  {
   "cell_type": "code",
   "execution_count": null,
   "metadata": {
    "collapsed": true
   },
   "outputs": [],
   "source": []
  },
  {
   "cell_type": "code",
   "execution_count": null,
   "metadata": {
    "collapsed": false
   },
   "outputs": [],
   "source": [
    "# Standardize features by removing the mean and scaling to unit variance\n",
    "scaler = preprocessing.StandardScaler().fit(X_train)\n",
    "\n",
    "X_train_scaled = scaler.transform(X_train)\n",
    "X_test_scaled = scaler.transform(X_test)"
   ]
  },
  {
   "cell_type": "code",
   "execution_count": null,
   "metadata": {
    "collapsed": true
   },
   "outputs": [],
   "source": []
  },
  {
   "cell_type": "code",
   "execution_count": null,
   "metadata": {
    "collapsed": true
   },
   "outputs": [],
   "source": []
  },
  {
   "cell_type": "markdown",
   "metadata": {},
   "source": [
    "#### Build model"
   ]
  },
  {
   "cell_type": "code",
   "execution_count": null,
   "metadata": {
    "collapsed": false
   },
   "outputs": [],
   "source": [
    "from sklearn import linear_model\n",
    "\n",
    "# Build model using default parameter values\n",
    "lrc = linear_model.LogisticRegression()\n",
    "\n",
    "# cross-validation \n",
    "cv = StratifiedKFold(y, n_folds=5, shuffle=True)\n",
    "training_score(lrc, X_train_scaled, y, cv)"
   ]
  },
  {
   "cell_type": "markdown",
   "metadata": {},
   "source": [
    "#### Evaluation via Confusion Matrix (false positive; false negative) "
   ]
  },
  {
   "cell_type": "code",
   "execution_count": null,
   "metadata": {
    "collapsed": true
   },
   "outputs": [],
   "source": [
    "# Compute confusion matrix\n",
    "import matplotlib.pyplot as plt\n",
    "from sklearn.cross_validation import train_test_split\n",
    "from sklearn.metrics import confusion_matrix\n",
    "\n",
    "def plot_confusion_matrix(cm, title='Confusion matrix', cmap=plt.cm.Blues):\n",
    "    plt.imshow(cm, interpolation='nearest', cmap=cmap)\n",
    "    plt.title(title)\n",
    "    plt.colorbar()\n",
    "    plt.tight_layout()\n",
    "    plt.ylabel('True label')\n",
    "    plt.xlabel('Predicted label')\n",
    "\n",
    "# Split the data into a training set and a test set\n",
    "X_train, X_test, Y_train, Y_test = train_test_split(X, y)\n",
    "\n",
    "# Run classifier\n",
    "Y_pred = lrc.fit(X_train, Y_train).predict(X_test)\n",
    "cm = confusion_matrix(Y_test, Y_pred)\n",
    "\n",
    "# Compute confusion matrix\n",
    "np.set_printoptions(precision=2)\n",
    "print('Confusion matrix, without normalization')\n",
    "print(cm)\n",
    "plt.figure()\n",
    "plot_confusion_matrix(cm)\n",
    "\n",
    "# Normalize the confusion matrix by row (i.e by the number of samples in each class)\n",
    "cm_normalized = cm.astype('float') / cm.sum(axis=1)[:, np.newaxis]\n",
    "print('Normalized confusion matrix')\n",
    "print(cm_normalized)\n",
    "plt.figure()\n",
    "plot_confusion_matrix(cm_normalized, title='Normalized confusion matrix')\n",
    "plt.show()"
   ]
  },
  {
   "cell_type": "markdown",
   "metadata": {},
   "source": [
    "### Make prediction with the model"
   ]
  },
  {
   "cell_type": "code",
   "execution_count": null,
   "metadata": {
    "collapsed": true
   },
   "outputs": [],
   "source": [
    "# give a prediction of user:me evaluating biz:gary danco, get the prob. of me giving it a five-star\n",
    "# another example of me for another biz (park, street, civic center bart station) and give negative"
   ]
  }
 ],
 "metadata": {
  "kernelspec": {
   "display_name": "Python 2",
   "language": "python",
   "name": "python2"
  },
  "language_info": {
   "codemirror_mode": {
    "name": "ipython",
    "version": 2
   },
   "file_extension": ".py",
   "mimetype": "text/x-python",
   "name": "python",
   "nbconvert_exporter": "python",
   "pygments_lexer": "ipython2",
   "version": "2.7.6"
  }
 },
 "nbformat": 4,
 "nbformat_minor": 0
}
